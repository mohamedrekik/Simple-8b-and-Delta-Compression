{
  "nbformat": 4,
  "nbformat_minor": 0,
  "metadata": {
    "colab": {
      "name": "Time-Series Compression.ipynb",
      "provenance": [],
      "collapsed_sections": [],
      "toc_visible": true
    },
    "kernelspec": {
      "name": "python3",
      "display_name": "Python 3"
    },
    "language_info": {
      "name": "python"
    }
  },
  "cells": [
    {
      "cell_type": "markdown",
      "metadata": {
        "id": "q9s7CUy2RZ3_"
      },
      "source": [
        "# Uploading data"
      ]
    },
    {
      "cell_type": "code",
      "metadata": {
        "id": "sb8QGn8GUcLl"
      },
      "source": [
        "# Load data using read_csv\n",
        "from pandas import read_csv, concat\n",
        "from matplotlib import pyplot\n",
        "# Write the path and column names of the CSV file\n",
        "df = read_csv('path/to/csv/file',usecols=[\"col1\",\"col2\",'col3'])\n",
        "print(df.head())"
      ],
      "execution_count": null,
      "outputs": []
    },
    {
      "cell_type": "markdown",
      "metadata": {
        "id": "mwWEHtPBPIXT"
      },
      "source": [
        "# Signal Compression"
      ]
    },
    {
      "cell_type": "code",
      "metadata": {
        "id": "LPC4C2fJ2DN3"
      },
      "source": [
        "def delta_compression(list_to_compress) :\n",
        "  if len(list_to_compress) <= 1 :\n",
        "    print(\"list is too short !\")\n",
        "    return list_to_compress\n",
        "  for i in range(len(list_to_compress)-1,0,-1):\n",
        "    list_to_compress[i] -= list_to_compress[i-1]\n",
        "  return list_to_compress "
      ],
      "execution_count": null,
      "outputs": []
    },
    {
      "cell_type": "code",
      "metadata": {
        "id": "ng4W8H5QZSbY"
      },
      "source": [
        "def decimal_to_binary(x):\n",
        "  return bin(x)[2:]"
      ],
      "execution_count": null,
      "outputs": []
    },
    {
      "cell_type": "code",
      "metadata": {
        "id": "QBvy1JRMbpYq"
      },
      "source": [
        "def simple_8b_compression(list_to_compress) : \n",
        "  blocks = []\n",
        "  i = 0\n",
        "  j = 0   #number of elements in the block\n",
        "  max_len = 0   #the minimum number of bits required to store an element\n",
        "  while i < len(list_to_compress) :\n",
        "    cur_len = len(list_to_compress[i])\n",
        "    if (max(cur_len,max_len) * (j+1)) <= 28 :\n",
        "      if cur_len > max_len :\n",
        "        max_len = cur_len\n",
        "      j += 1\n",
        "      i += 1\n",
        "    else :\n",
        "      l = []   #one block of 32bits\n",
        "      l.append(decimal_to_binary(max_len))\n",
        "      for k in range(i-j,i) :\n",
        "        l.append(list_to_compress[k])\n",
        "      j = 0\n",
        "      blocks.append(l)\n",
        "  l = []   #one block of 32bits\n",
        "  l.append(decimal_to_binary(max_len))\n",
        "  for k in range(i-j,i) :\n",
        "    l.append(list_to_compress[k])\n",
        "  blocks.append(l)\n",
        "\n",
        "  return blocks"
      ],
      "execution_count": null,
      "outputs": []
    },
    {
      "cell_type": "code",
      "metadata": {
        "colab": {
          "base_uri": "https://localhost:8080/"
        },
        "id": "29Ugtop1evAY",
        "outputId": "14038aef-db36-4f2f-896e-aa4c720804b9"
      },
      "source": [
        "list_to_compress1 = delta_compression(time_stamps)\n",
        "list_to_compress2 = list(map(decimal_to_binary,list_to_compress1))\n",
        "print(list_to_compress1)\n",
        "list_to_compress3 = simple_8b_compression(list_to_compress2)\n",
        "print(len(list_to_compress3))"
      ],
      "execution_count": null,
      "outputs": [
        {
          "output_type": "stream",
          "text": [
            "[0, 2, 25, 3, 6, 13, 11, 3, 4, 12, 2, 10, 11, 2, 16, 11, 2, 19, 13, 8, 3, 21, 11, 14, 2, 2, 12, 23, 5, 2, 11, 14, 26, 4, 19, 1, 15, 7, 14, 20, 3, 22, 4, 11, 11, 8, 7, 22, 25, 7, 4, 11, 31, 5, 29, 29, 7, 7, 12, 23, 3, 40, 17, 4, 19, 4, 18, 20, 13, 11, 26, 29, 38, 19, 16, 38, 13, 29, 25, 15, 49, 13, 23, 29]\n",
            "18\n"
          ],
          "name": "stdout"
        }
      ]
    },
    {
      "cell_type": "code",
      "metadata": {
        "colab": {
          "base_uri": "https://localhost:8080/"
        },
        "id": "oq3oryFQUhYi",
        "outputId": "f27ced27-56c2-4053-f0ae-214cd2972918"
      },
      "source": [
        "list_to_compress3"
      ],
      "execution_count": null,
      "outputs": [
        {
          "output_type": "execute_result",
          "data": {
            "text/plain": [
              "[['101', '0', '10', '11001', '11', '110'],\n",
              " ['101', '1101', '1011', '11', '100', '1100'],\n",
              " ['101', '10', '1010', '1011', '10', '10000'],\n",
              " ['101', '1011', '10', '10011', '1101', '1000'],\n",
              " ['101', '11', '10101', '1011', '1110', '10'],\n",
              " ['101', '10', '1100', '10111', '101', '10'],\n",
              " ['101', '1011', '1110', '11010', '100', '10011'],\n",
              " ['101', '1', '1111', '111', '1110', '10100'],\n",
              " ['101', '11', '10110', '100', '1011', '1011'],\n",
              " ['101', '1000', '111', '10110', '11001', '111'],\n",
              " ['101', '100', '1011', '11111', '101', '11101'],\n",
              " ['101', '11101', '111', '111', '1100', '10111'],\n",
              " ['110', '11', '101000', '10001', '100'],\n",
              " ['110', '10011', '100', '10010', '10100'],\n",
              " ['110', '1101', '1011', '11010', '11101'],\n",
              " ['110', '100110', '10011', '10000', '100110'],\n",
              " ['110', '1101', '11101', '11001', '1111'],\n",
              " ['110', '110001', '1101', '10111', '11101']]"
            ]
          },
          "metadata": {
            "tags": []
          },
          "execution_count": 11
        }
      ]
    },
    {
      "cell_type": "markdown",
      "metadata": {
        "id": "rMtjC21QBq4b"
      },
      "source": [
        "# Time-Series Decompression"
      ]
    },
    {
      "cell_type": "code",
      "metadata": {
        "id": "cUMJWe30dAw2"
      },
      "source": [
        "def simple_8b_decompression(list_to_decompress) :\n",
        "  l = []\n",
        "  for i in range(len(list_to_decompress)) :\n",
        "    for j in list_to_decompress[i][1:] :\n",
        "      l.append(j)\n",
        "  return l"
      ],
      "execution_count": null,
      "outputs": []
    },
    {
      "cell_type": "code",
      "metadata": {
        "id": "IB_1fJSJjOQI"
      },
      "source": [
        "def binary_to_decimal(ch) :\n",
        "  return int(ch,2)"
      ],
      "execution_count": null,
      "outputs": []
    },
    {
      "cell_type": "code",
      "metadata": {
        "id": "qtcSMHv04-vY"
      },
      "source": [
        "def delta_decompression(list_to_decompress):\n",
        "  for i in range(1,len(list_to_decompress)) : \n",
        "    list_to_decompress[i] += list_to_decompress[i-1]\n",
        "  return list_to_decompress"
      ],
      "execution_count": null,
      "outputs": []
    },
    {
      "cell_type": "code",
      "metadata": {
        "id": "g_3TeqVK4_du"
      },
      "source": [
        "list_to_decompress1 = simple_8b_decompression(list_to_compress3)\n",
        "list_to_decompress2 = list(map(binary_to_decimal,list_to_decompress1))\n",
        "list_to_decompress3 = delta_decompression(list_to_decompress2)"
      ],
      "execution_count": null,
      "outputs": []
    },
    {
      "cell_type": "code",
      "metadata": {
        "colab": {
          "base_uri": "https://localhost:8080/"
        },
        "id": "0tqenVqZ7F7-",
        "outputId": "69a27aab-160b-4464-a901-e91f56bf498e"
      },
      "source": [
        "print(list_to_decompress3)"
      ],
      "execution_count": null,
      "outputs": [
        {
          "output_type": "stream",
          "text": [
            "[0, 2, 27, 30, 36, 49, 60, 63, 67, 79, 81, 91, 102, 104, 120, 131, 133, 152, 165, 173, 176, 197, 208, 222, 224, 226, 238, 261, 266, 268, 279, 293, 319, 323, 342, 343, 358, 365, 379, 399, 402, 424, 428, 439, 450, 458, 465, 487, 512, 519, 523, 534, 565, 570, 599, 628, 635, 642, 654, 677, 680, 720, 737, 741, 760, 764, 782, 802, 815, 826, 852, 881, 919, 938, 954, 992, 1005, 1034, 1059, 1074, 1123, 1136, 1159, 1188]\n"
          ],
          "name": "stdout"
        }
      ]
    }
  ]
}